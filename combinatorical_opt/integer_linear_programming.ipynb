{
 "cells": [
  {
   "cell_type": "code",
   "id": "initial_id",
   "metadata": {
    "collapsed": true,
    "ExecuteTime": {
     "end_time": "2024-09-09T14:53:56.894160Z",
     "start_time": "2024-09-09T14:53:55.318815Z"
    }
   },
   "source": "import cvxpy as cp",
   "outputs": [],
   "execution_count": 1
  },
  {
   "metadata": {
    "ExecuteTime": {
     "end_time": "2024-09-09T14:53:56.897414Z",
     "start_time": "2024-09-09T14:53:56.895228Z"
    }
   },
   "cell_type": "code",
   "source": [
    "# When parameter integer is set to true, \n",
    "# The cvxpy is solving the Integer Linear Programming\n",
    "x_1 = cp.Variable(integer=True)\n",
    "x_2 = cp.Variable(integer=True)"
   ],
   "id": "238da1623a101f42",
   "outputs": [],
   "execution_count": 2
  },
  {
   "metadata": {
    "ExecuteTime": {
     "end_time": "2024-09-09T14:53:56.899864Z",
     "start_time": "2024-09-09T14:53:56.898122Z"
    }
   },
   "cell_type": "code",
   "source": "objective = cp.Minimize(2 * x_1 + 3 * x_2)",
   "id": "bf997fab98c675ac",
   "outputs": [],
   "execution_count": 3
  },
  {
   "metadata": {
    "ExecuteTime": {
     "end_time": "2024-09-09T14:53:56.902256Z",
     "start_time": "2024-09-09T14:53:56.900464Z"
    }
   },
   "cell_type": "code",
   "source": [
    "constraints = [\n",
    "    x_1 + 2 * x_2 <= 10,\n",
    "    x_1 - x_2 >= 1,\n",
    "    x_1 >= 0,\n",
    "    x_2 >= 0\n",
    "]"
   ],
   "id": "d785fa216b62a046",
   "outputs": [],
   "execution_count": 4
  },
  {
   "metadata": {
    "ExecuteTime": {
     "end_time": "2024-09-09T14:53:56.904930Z",
     "start_time": "2024-09-09T14:53:56.903395Z"
    }
   },
   "cell_type": "code",
   "source": "problem = cp.Problem(objective, constraints)",
   "id": "886bb625f43a572d",
   "outputs": [],
   "execution_count": 5
  },
  {
   "metadata": {
    "ExecuteTime": {
     "end_time": "2024-09-09T14:53:56.912732Z",
     "start_time": "2024-09-09T14:53:56.905481Z"
    }
   },
   "cell_type": "code",
   "source": [
    "result = problem.solve()\n",
    "\n",
    "# Output results\n",
    "print(\"Optimal value:\", result)\n",
    "print(\"Optimal x:\", x_1.value)\n",
    "print(\"Optimal y:\", x_2.value)"
   ],
   "id": "87aa7a603e24f6c3",
   "outputs": [
    {
     "name": "stdout",
     "output_type": "stream",
     "text": [
      "Optimal value: 2.0\n",
      "Optimal x: 1.0\n",
      "Optimal y: -0.0\n"
     ]
    }
   ],
   "execution_count": 6
  },
  {
   "metadata": {},
   "cell_type": "code",
   "outputs": [],
   "execution_count": null,
   "source": "",
   "id": "93e787425cc92052"
  }
 ],
 "metadata": {
  "kernelspec": {
   "display_name": "Python 3",
   "language": "python",
   "name": "python3"
  },
  "language_info": {
   "codemirror_mode": {
    "name": "ipython",
    "version": 2
   },
   "file_extension": ".py",
   "mimetype": "text/x-python",
   "name": "python",
   "nbconvert_exporter": "python",
   "pygments_lexer": "ipython2",
   "version": "2.7.6"
  }
 },
 "nbformat": 4,
 "nbformat_minor": 5
}
