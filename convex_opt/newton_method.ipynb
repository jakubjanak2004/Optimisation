{
 "cells": [
  {
   "metadata": {
    "ExecuteTime": {
     "end_time": "2024-09-09T14:57:12.716047Z",
     "start_time": "2024-09-09T14:57:12.520708Z"
    }
   },
   "cell_type": "code",
   "source": [
    "from math import *\n",
    "import numpy as np\n",
    "import matplotlib.pyplot as plt\n",
    "from matplotlib.colors import ListedColormap"
   ],
   "id": "399b09ec3a43dd95",
   "execution_count": 1,
   "outputs": []
  },
  {
   "metadata": {
    "ExecuteTime": {
     "end_time": "2024-09-09T14:57:12.719844Z",
     "start_time": "2024-09-09T14:57:12.717161Z"
    }
   },
   "cell_type": "code",
   "source": [
    "def sqrt_newton(a_estimating, num_of_iterations=10, tolerance=1e-5):\n",
    "    \"\"\"Square root of the newton method calculation\"\"\"\n",
    "    x_k = 10.\n",
    "    for k in range(num_of_iterations):\n",
    "        x_k_plus_1 = 1 / 2 * (x_k + a_estimating / x_k)\n",
    "        if abs(x_k_plus_1 - x_k) <= tolerance:\n",
    "            break\n",
    "        x_k = x_k_plus_1\n",
    "    return x_k\n",
    "\n",
    "\n",
    "def div_newton(a_estimating, num_of_iterations=10, tolerance=1e-5, initial_estimate=.5):\n",
    "    \"\"\"Division Newton method calculation\"\"\"\n",
    "    x_k = initial_estimate\n",
    "    for k in range(num_of_iterations):\n",
    "        x_k_plus_1 = x_k * (2 - a_estimating * x_k)\n",
    "        if abs(x_k - x_k_plus_1) <= tolerance:\n",
    "            break\n",
    "        x_k = x_k_plus_1\n",
    "    return x_k\n"
   ],
   "id": "initial_id",
   "execution_count": 2,
   "outputs": []
  },
  {
   "metadata": {
    "ExecuteTime": {
     "end_time": "2024-09-09T14:57:12.722743Z",
     "start_time": "2024-09-09T14:57:12.720561Z"
    }
   },
   "cell_type": "code",
   "source": [
    "# Testing the Newton method on numbers 1 to 10\n",
    "for a in range(1, 11):\n",
    "    print('Newton Method Sqrt Calculation:', sqrt_newton(a, tolerance=0), 'Actual Sqrt:', sqrt(a))\n",
    "    print('Newton Method Division Calculation:', div_newton(a, tolerance=0, initial_estimate=1 / a), 'Actual Div:',\n",
    "          1 / a)\n",
    "    print()\n"
   ],
   "id": "af41ae99fe6afc27",
   "execution_count": 3,
   "outputs": []
  },
  {
   "metadata": {
    "ExecuteTime": {
     "end_time": "2024-09-09T14:57:12.725711Z",
     "start_time": "2024-09-09T14:57:12.723446Z"
    }
   },
   "cell_type": "code",
   "source": [
    "# The Roots are: 1, 5, 10\n",
    "# The polynomial is cubic\n",
    "def polynomial_estimated(x): return x ** 3 - 16 * x ** 2 + 65 * x - 50\n",
    "\n",
    "\n",
    "def polynomial_newton(num_of_iterations=10, tolerance=1e-5, initial_estimate=.5):\n",
    "    \"\"\"Root of a polynomial Numerical Estimation\"\"\"\n",
    "    points_visited = []\n",
    "    x_k = initial_estimate\n",
    "    for k in range(num_of_iterations):\n",
    "        x_k_plus_1 = x_k - (x_k ** 3 - 16 * x_k ** 2 + 65 * x_k - 50) / (3 * x_k ** 2 - 32 * x_k + 65)\n",
    "        if abs(x_k - x_k_plus_1) <= tolerance:\n",
    "            break\n",
    "        points_visited.append(x_k)\n",
    "        x_k = x_k_plus_1\n",
    "    return x_k, np.array(points_visited)"
   ],
   "id": "4c8f22e7bbd41624",
   "execution_count": 4,
   "outputs": []
  },
  {
   "metadata": {
    "ExecuteTime": {
     "end_time": "2024-09-09T14:57:12.824264Z",
     "start_time": "2024-09-09T14:57:12.726863Z"
    }
   },
   "cell_type": "code",
   "source": [
    "# Visualization of the Newton Method\n",
    "plt.figure(figsize=(10, 7))\n",
    "x = np.linspace(-1, 11, 100)\n",
    "y_function = polynomial_estimated(x)\n",
    "\n",
    "y_x_axis = [0] * len(x)\n",
    "\n",
    "points_vis_1 = polynomial_newton(initial_estimate=4)[1]\n",
    "points_vis_2 = polynomial_newton(initial_estimate=9)[1]\n",
    "points_vis_3 = polynomial_newton(initial_estimate=-1)[1]\n",
    "\n",
    "plt.plot(x, y_function)\n",
    "plt.plot(x, y_x_axis)\n",
    "plt.scatter(points_vis_1, polynomial_estimated(points_vis_1), marker='o', color='r')\n",
    "plt.scatter(points_vis_2, polynomial_estimated(points_vis_2), marker='o', color='g')\n",
    "plt.scatter(points_vis_3, polynomial_estimated(points_vis_3), marker='o', color='b')\n",
    "\n",
    "plt.annotate(f'Root 1: ({1}, {0})', xy=(1, 0), xytext=(1 + .5, 0 - 15),\n",
    "             arrowprops=dict(facecolor='black', arrowstyle='->'), fontsize=10)\n",
    "\n",
    "plt.annotate(f'Root 2: ({5}, {0})', xy=(5, 0), xytext=(5 + .5, 0 + 15),\n",
    "             arrowprops=dict(facecolor='black', arrowstyle='->'), fontsize=10)\n",
    "\n",
    "plt.annotate(f'Root 3: ({10}, {0})', xy=(10, 0), xytext=(10 - .5, 0 - 30),\n",
    "             arrowprops=dict(facecolor='black', arrowstyle='->'), fontsize=10)\n",
    "\n",
    "plt.title('Polynomial Function')\n",
    "\n",
    "plt.show()"
   ],
   "id": "36f07a3162dc03e6",
   "execution_count": 5,
   "outputs": []
  },
  {
   "metadata": {
    "ExecuteTime": {
     "end_time": "2024-09-09T14:57:12.828785Z",
     "start_time": "2024-09-09T14:57:12.824919Z"
    }
   },
   "cell_type": "code",
   "source": [
    "def harder_newton(num_of_iterations=100, tolerance=1e-5, initial_estimate=np.array([1., 1.])):\n",
    "    \"\"\"Newton method for a harder set of equations that have to be satisfied\"\"\"\n",
    "    x_k = initial_estimate.reshape(-1, 1)\n",
    "    for k in range(num_of_iterations):\n",
    "        x_k_plus_1 = (x_k -\n",
    "                      np.linalg.inv(np.array([\n",
    "                          [2 * (x_k[0][0] - 1), 2 * x_k[1][0]],\n",
    "                          [4 * x_k[0][0] ** 3, 4 * x_k[1][0] ** 3]\n",
    "                      ])) @\n",
    "                      np.array([\n",
    "                          [(x_k[0][0] - 1) ** 2 + x_k[1][0] ** 2 - 1],\n",
    "                          [x_k[0][0] ** 4 + x_k[1][0] ** 4 - 1]\n",
    "                      ]))\n",
    "        if np.linalg.norm(x_k - x_k_plus_1) <= tolerance:\n",
    "            break\n",
    "        x_k = x_k_plus_1\n",
    "    return x_k\n",
    "\n",
    "\n",
    "harder_newton()"
   ],
   "id": "8cea7a67c0f33698",
   "execution_count": 6,
   "outputs": []
  },
  {
   "metadata": {
    "ExecuteTime": {
     "end_time": "2024-09-09T14:57:12.890649Z",
     "start_time": "2024-09-09T14:57:12.829364Z"
    }
   },
   "cell_type": "code",
   "source": [
    "# Find Local Minimum using the newton method\n",
    "def newton_method(func, num_of_iterations=100, tolerance=1e-5, initial_estimate=10):\n",
    "    \"\"\"\n",
    "    Newton method to find extreme of a function.\n",
    "    The f'(x) and f''(x) are computed numerically.\n",
    "    :param func: function which extreme has to be found\n",
    "    :param num_of_iterations: maximal number of iterations\n",
    "    :param tolerance: when the change between iterations is smaller than tolerance algo returns result\n",
    "    :param initial_estimate: the initial estimate from which the NM starts the iteration\n",
    "    :return: the result of the NM method, the points visited by the NM algo\n",
    "    \"\"\"\n",
    "\n",
    "    def function_der(x_var, h=1e-5):\n",
    "        return (func(x_var + h) - func(x_var)) / h\n",
    "\n",
    "    def function_der_2(x_var, h=1e-5):\n",
    "        return (func(x_var + h) - 2 * func(x_var) + func(x_var - h)) / h ** 2\n",
    "\n",
    "    pts_visited = []\n",
    "    x_k = initial_estimate\n",
    "    for k in range(num_of_iterations):\n",
    "        x_k_plus_1 = x_k - function_der(x_k) / function_der_2(x_k)\n",
    "        pts_visited.append(x_k)\n",
    "        if abs(x_k - x_k_plus_1) <= tolerance:\n",
    "            break\n",
    "        x_k = x_k_plus_1\n",
    "    return x_k, np.array(pts_visited)\n",
    "\n",
    "\n",
    "def function(x): return x ** 2 - 2\n",
    "\n",
    "\n",
    "x, points_visited = newton_method(function, initial_estimate=1000)\n",
    "print('Optimal x:', format(x, '.1f'))\n",
    "\n",
    "x = np.linspace(-1010, 1010, 100)\n",
    "plt.plot(x, function(x))\n",
    "\n",
    "plt.plot(points_visited, function(points_visited))\n",
    "plt.title('Newton Method for minimisation')\n",
    "plt.legend(['Function', 'NM Iteration'])\n",
    "plt.show()"
   ],
   "id": "e29bafd953af854b",
   "execution_count": 7,
   "outputs": []
  },
  {
   "metadata": {
    "ExecuteTime": {
     "end_time": "2024-09-09T14:57:13.006244Z",
     "start_time": "2024-09-09T14:57:12.891311Z"
    }
   },
   "cell_type": "code",
   "source": [
    "# Find local minimum using newton method for functions of two variables\n",
    "def newton_method_2(func, num_of_iterations=100, tolerance=1e-5, initial_estimate=np.array([856, 523])):\n",
    "    \"\"\"\n",
    "    Newton method to find extreme of a function.\n",
    "    The f'(x) and f''(x) are computed numerically.\n",
    "    :param func: function which extreme has to be found\n",
    "    :param num_of_iterations: maximal number of iterations\n",
    "    :param tolerance: when the change between iterations is smaller than tolerance algo returns result\n",
    "    :param initial_estimate: the initial estimate from which the NM starts the iteration\n",
    "    :return: the result of the NM method, the points visited by the NM algo\n",
    "    \"\"\"\n",
    "\n",
    "    def function_der(x_var, y_var, h=1e-5):\n",
    "        return np.array(\n",
    "            [(func(x_var + h, y_var) - func(x_var, y_var)) / h, (func(x_var, y_var + h) - func(x_var, y_var)) / h])\n",
    "\n",
    "    def function_der_2(x_var, y_var, h=1e-5):\n",
    "        return np.array([(func(x_var + h, y_var) - 2 * func(x_var, y_var) + func(x_var - h, y_var)) / h ** 2,\n",
    "                         (func(x_var, y_var + h) - 2 * func(x_var, y_var) + func(x_var, y_var - h)) / h ** 2])\n",
    "\n",
    "    pts_visited = []\n",
    "    x_k = initial_estimate\n",
    "    for k in range(num_of_iterations):\n",
    "        x_k_plus_1 = x_k - function_der(x_k[0], x_k[1]) / function_der_2(x_k[0], x_k[1])\n",
    "        pts_visited.append(x_k)\n",
    "        if np.linalg.norm(x_k - x_k_plus_1) <= tolerance:\n",
    "            break\n",
    "        x_k = x_k_plus_1\n",
    "    return x_k, np.array(pts_visited)\n",
    "\n",
    "\n",
    "def f(x, y): return (x - 5) ** 2 + (y - 10) ** 2\n",
    "\n",
    "\n",
    "result, points_visited = newton_method_2(f)\n",
    "for i in range(len(result)):\n",
    "    print('x' + str(i) + ':', format(result[i], '.1f'))\n",
    "\n",
    "x = np.linspace(-900, 900, 100)\n",
    "y = np.linspace(-900, 900, 100)\n",
    "X, Y = np.meshgrid(x, y)\n",
    "\n",
    "# Create a 3D plot\n",
    "fig = plt.figure(figsize=(10, 8))\n",
    "ax = fig.add_subplot(111, projection='3d')\n",
    "\n",
    "# Plot the surface\n",
    "ax.plot_wireframe(X, Y, f(X, Y), alpha=.2)\n",
    "ax.scatter(points_visited[:, 0], points_visited[:, 1], f(points_visited[:, 0], points_visited[:, 1]), s=100, c='r')\n",
    "\n",
    "# Set labels\n",
    "ax.set_xlabel('X axis')\n",
    "ax.set_ylabel('Y axis')\n",
    "ax.set_zlabel('Z axis')\n",
    "\n",
    "# Set title\n",
    "plt.title('Surface Plot of the Function f(x, y) with NM iterations')\n",
    "\n",
    "# Show the plot\n",
    "plt.show()"
   ],
   "id": "2ff580f1557d8a9c",
   "execution_count": 8,
   "outputs": []
  },
  {
   "metadata": {
    "ExecuteTime": {
     "end_time": "2024-09-09T14:57:13.009082Z",
     "start_time": "2024-09-09T14:57:13.006917Z"
    }
   },
   "cell_type": "code",
   "source": [
    "def f(c: complex) -> complex:\n",
    "    \"\"\"\n",
    "    Complex function\n",
    "    Root1: 2 + 3j Root2: -3 - 4j Root3: 5 + 2j\n",
    "    \"\"\"\n",
    "    r1 = 2 + 3j\n",
    "    r2 = -3 - 4j\n",
    "    r3 = 5 + 2j\n",
    "    return (c - r1) * (c - r2) * (c - r3)\n",
    "\n",
    "\n",
    "def f_der(c: complex) -> complex:\n",
    "    \"\"\"Complex function derivative\"\"\"\n",
    "    r1 = 2 + 3j\n",
    "    r2 = -3 - 4j\n",
    "    r3 = 5 + 2j\n",
    "    # Product rule application\n",
    "    return (c - r2) * (c - r3) + (c - r1) * (c - r3) + (c - r1) * (c - r2)"
   ],
   "id": "6a0a7855de422015",
   "execution_count": 9,
   "outputs": []
  },
  {
   "metadata": {
    "ExecuteTime": {
     "end_time": "2024-09-09T14:57:13.356897Z",
     "start_time": "2024-09-09T14:57:13.009600Z"
    }
   },
   "cell_type": "code",
   "source": [
    "# Visualize the Complex function\n",
    "# Generate a grid of complex numbers\n",
    "x = np.linspace(-10, 10, 400)\n",
    "y = np.linspace(-10, 10, 400)\n",
    "X, Y = np.meshgrid(x, y)\n",
    "C = X + 1j * Y  # Create a grid of complex numbers\n",
    "\n",
    "# Evaluate the function on the grid\n",
    "Z = f(C)\n",
    "\n",
    "# Separate the real and imaginary parts\n",
    "Z_real = np.real(Z)\n",
    "Z_imag = np.imag(Z)\n",
    "\n",
    "# Create a figure and 3D axes\n",
    "fig = plt.figure(figsize=(14, 6))\n",
    "\n",
    "# Plotting the real part in 3D\n",
    "ax1 = fig.add_subplot(121, projection='3d')\n",
    "ax1.plot_surface(X, Y, Z_real, cmap='viridis', edgecolor='none')\n",
    "ax1.set_title('Real Part of f(c)')\n",
    "ax1.set_xlabel('Re(c)')\n",
    "ax1.set_ylabel('Im(c)')\n",
    "ax1.set_zlabel('Re(f(c))')\n",
    "\n",
    "# Plotting the imaginary part in 3D\n",
    "ax2 = fig.add_subplot(122, projection='3d')\n",
    "ax2.plot_surface(X, Y, Z_imag, cmap='plasma', edgecolor='none')\n",
    "ax2.set_title('Imaginary Part of f(c)')\n",
    "ax2.set_xlabel('Re(c)')\n",
    "ax2.set_ylabel('Im(c)')\n",
    "ax2.set_zlabel('Im(f(c))')\n",
    "\n",
    "plt.tight_layout()\n",
    "plt.show()"
   ],
   "id": "df227d30eebb48d8",
   "execution_count": 10,
   "outputs": []
  },
  {
   "metadata": {
    "ExecuteTime": {
     "end_time": "2024-09-09T14:57:13.359987Z",
     "start_time": "2024-09-09T14:57:13.357430Z"
    }
   },
   "cell_type": "code",
   "source": [
    "def newton_c(num_of_iterations=1000, tolerance=1e-5, initial_estimate=2 + 1j):\n",
    "    \"\"\"Newton Method for complex function f\"\"\"\n",
    "    visited_points = []\n",
    "    x_k = initial_estimate\n",
    "    for k in range(num_of_iterations):\n",
    "        x_k_plus_1 = x_k - f(x_k) / f_der(x_k)\n",
    "        visited_points.append(x_k)\n",
    "        if abs(x_k - x_k_plus_1) <= tolerance:\n",
    "            break\n",
    "        x_k = x_k_plus_1\n",
    "    return x_k, visited_points\n",
    "\n",
    "\n",
    "result, visited_points = newton_c(initial_estimate=15 + 2j)\n",
    "_, visited_points_2 = newton_c(initial_estimate=20 + 20j)\n",
    "_, visited_points_3 = newton_c(initial_estimate=-20 + 15j)\n",
    "print('The Root calculated by the Newton Method', result, 'The Sanity Check', f(result), 'should equal 0')"
   ],
   "id": "dbfe891c5e31e509",
   "execution_count": 11,
   "outputs": []
  },
  {
   "metadata": {
    "ExecuteTime": {
     "end_time": "2024-09-09T14:57:13.416840Z",
     "start_time": "2024-09-09T14:57:13.360697Z"
    }
   },
   "cell_type": "code",
   "source": [
    "# Visualize the algo of root finding by the newton method\n",
    "x = np.linspace(-10, 10, 400)\n",
    "y = np.linspace(-10, 10, 400)\n",
    "X, Y = np.meshgrid(x, y)\n",
    "C = X + 1j * Y  # Create a grid of complex numbers\n",
    "\n",
    "real, imaginary = np.real(visited_points), np.imag(visited_points)\n",
    "plt.scatter(real, imaginary)\n",
    "real, imaginary = np.real(visited_points_2), np.imag(visited_points_2)\n",
    "plt.scatter(real, imaginary)\n",
    "real, imaginary = np.real(visited_points_3), np.imag(visited_points_3)\n",
    "plt.scatter(real, imaginary)\n",
    "\n",
    "plt.title('Points Visited by the Newton Method')\n",
    "plt.show()"
   ],
   "id": "9acf14e111881b08",
   "execution_count": 12,
   "outputs": []
  },
  {
   "metadata": {
    "ExecuteTime": {
     "end_time": "2024-09-09T14:59:37.132196Z",
     "start_time": "2024-09-09T14:57:13.417477Z"
    }
   },
   "cell_type": "code",
   "source": [
    "def nearest_to_root(c, roots=(2 + 3j, -3 - 4j, 5 + 2j)):\n",
    "    biggest_dif = float('inf')\n",
    "    nearest_root = None\n",
    "    for root in roots:\n",
    "        if abs(c - root) < biggest_dif:\n",
    "            biggest_dif = abs(c - root)\n",
    "            nearest_root = root\n",
    "    return nearest_root\n",
    "\n",
    "\n",
    "# Recreate the Complex list object\n",
    "x = np.linspace(-10, 10, 5000)\n",
    "y = np.linspace(-10, 10, 5000)\n",
    "X, Y = np.meshgrid(x, y)\n",
    "C = X + 1j * Y  # Create a grid of complex numbers\n",
    "\n",
    "roots_and_points = [[] for _ in range(len(C))]\n",
    "counter = 0\n",
    "for row in range(len(C)):\n",
    "    for n in C[row]:\n",
    "        counter += 1\n",
    "        if counter % 85 == 0 or True:\n",
    "            nearest_to = nearest_to_root(newton_c(initial_estimate=n)[0])\n",
    "            if nearest_to == 2 + 3j:\n",
    "                color = 0\n",
    "            elif nearest_to == -3 - 4j:\n",
    "                color = 1\n",
    "            elif nearest_to == 5 + 2j:\n",
    "                color = 2\n",
    "            roots_and_points[row].append(color)"
   ],
   "id": "bb164840c7230281",
   "execution_count": 13,
   "outputs": []
  },
  {
   "metadata": {
    "ExecuteTime": {
     "end_time": "2024-09-09T14:59:38.397995Z",
     "start_time": "2024-09-09T14:59:37.134444Z"
    }
   },
   "cell_type": "code",
   "source": [
    "plt.figure(figsize=(15, 10))\n",
    "\n",
    "# Hexadecimal colors\n",
    "colors = ['red', 'green', 'blue']\n",
    "\n",
    "my_cmap = ListedColormap(colors)\n",
    "\n",
    "plt.imshow(roots_and_points, cmap=my_cmap)\n",
    "\n",
    "plt.title('Newton Fractal')\n",
    "plt.show()"
   ],
   "id": "73bcfe4d24358080",
   "execution_count": 14,
   "outputs": []
  },
  {
   "metadata": {
    "ExecuteTime": {
     "end_time": "2024-09-09T14:59:38.400518Z",
     "start_time": "2024-09-09T14:59:38.398889Z"
    }
   },
   "cell_type": "code",
   "source": "",
   "id": "297db78ab1498c16",
   "execution_count": 14,
   "outputs": []
  }
 ],
 "metadata": {
  "kernelspec": {
   "display_name": "Python 3",
   "language": "python",
   "name": "python3"
  },
  "language_info": {
   "codemirror_mode": {
    "name": "ipython",
    "version": 2
   },
   "file_extension": ".py",
   "mimetype": "text/x-python",
   "name": "python",
   "nbconvert_exporter": "python",
   "pygments_lexer": "ipython2",
   "version": "2.7.6"
  }
 },
 "nbformat": 4,
 "nbformat_minor": 5
}
