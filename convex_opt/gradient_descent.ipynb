{
 "cells": [
  {
   "cell_type": "code",
   "id": "initial_id",
   "metadata": {
    "collapsed": true,
    "ExecuteTime": {
     "end_time": "2024-08-14T11:13:44.194316Z",
     "start_time": "2024-08-14T11:13:43.917603Z"
    }
   },
   "source": [
    "import numpy as np\n",
    "import matplotlib.pyplot as plt"
   ],
   "execution_count": 1,
   "outputs": []
  },
  {
   "metadata": {
    "ExecuteTime": {
     "end_time": "2024-08-14T11:13:56.304215Z",
     "start_time": "2024-08-14T11:13:56.300071Z"
    }
   },
   "cell_type": "code",
   "source": [
    "def f(x, y):\n",
    "    return .1 * x ** 4 + .1 * y ** 4 - 2 * x ** 2 - 2 * y ** 2\n",
    "\n",
    "\n",
    "def parc_f_x(x, y):\n",
    "    \"\"\"Partial Derivatives are not Defined now\"\"\"\n",
    "    return None\n",
    "\n",
    "\n",
    "def parc_f_y(x, y):\n",
    "    \"\"\"Partial Derivatives are not Defined now\"\"\"\n",
    "    return None\n",
    "\n",
    "\n",
    "def num_parc_f_x(x, y, d=.001):\n",
    "    \"\"\"Numerical partial derivative with respect to x\"\"\"\n",
    "    return (f(x + d, y) - f(x, y)) / d\n",
    "\n",
    "\n",
    "def num_parc_f_y(x, y, d=.001):\n",
    "    \"\"\"Numerical partial derivative with respect to y\"\"\"\n",
    "    return (f(x, y + d) - f(x, y)) / d\n",
    "\n",
    "\n",
    "def calc_grad(x, y, numeric=False):\n",
    "    if numeric:\n",
    "        return np.array([num_parc_f_x(x, y), num_parc_f_y(x, y)])\n",
    "    return np.array([parc_f_x(x, y), parc_f_y(x, y)])\n",
    "\n",
    "\n",
    "def norm(vector):\n",
    "    return np.sqrt(vector.dot(vector))"
   ],
   "id": "ad15ded927d94ba",
   "execution_count": 3,
   "outputs": []
  },
  {
   "metadata": {
    "ExecuteTime": {
     "end_time": "2024-08-14T11:14:06.612746Z",
     "start_time": "2024-08-14T11:14:06.608396Z"
    }
   },
   "cell_type": "code",
   "source": [
    "# The Gradient Descent Variables\n",
    "x_k = [0, -.1]\n",
    "grad = calc_grad(x_k[0], x_k[1], numeric=True)\n",
    "max_iterations = 1000\n",
    "\n",
    "# Array for explored points visualization\n",
    "points_explored = []\n",
    "\n",
    "# Gradient descent implementation\n",
    "for k in range(1, max_iterations):\n",
    "    # If the norm of the gradient is very small, stop the iteration\n",
    "    if norm(grad) <= .0001:\n",
    "        break\n",
    "    # print('x:', x_k, 'f(x):', f(x_k[0], x_k[1]), 'grad:', grad)\n",
    "    points_explored.append([x_k[0], x_k[1], f(x_k[0], x_k[1])])\n",
    "    grad = calc_grad(x_k[0], x_k[1], numeric=True)\n",
    "    # alpha is 1 / k\n",
    "    x_k = x_k - (1/k) * grad\n",
    "print('Optimised x:', x_k)\n",
    "points_explored = np.array(points_explored)"
   ],
   "id": "c911b96df035508f",
   "execution_count": 4,
   "outputs": []
  },
  {
   "metadata": {
    "ExecuteTime": {
     "end_time": "2024-08-14T11:14:14.339303Z",
     "start_time": "2024-08-14T11:14:13.718870Z"
    }
   },
   "cell_type": "code",
   "source": [
    "# VISUALISATION OF THE GRADIENT DESCENT\n",
    "# Generate grid data for plotting\n",
    "x_variable = np.linspace(-4, 5, 100)\n",
    "y_variable = np.linspace(-4, 5, 100)\n",
    "x_variable, y_variable = np.meshgrid(x_variable, y_variable)\n",
    "z_variable = f(x_variable, y_variable)\n",
    "\n",
    "# Create a 3D plot\n",
    "fig = plt.figure(figsize=(15, 10))\n",
    "ax = fig.add_subplot(111, projection='3d')\n",
    "\n",
    "# Plot the surface\n",
    "ax.plot_surface(x_variable, y_variable, z_variable, cmap='bone', alpha=.55, edgecolor='none')\n",
    "\n",
    "# Add points on the surface\n",
    "points_x = points_explored[:, 0]\n",
    "points_y = points_explored[:, 1]\n",
    "points_z = points_explored[:, 2]\n",
    "\n",
    "# Plot the explored points\n",
    "scatter = ax.scatter(points_x, points_y, points_z, color='red', s=100, edgecolor='k', alpha=1, label='Points Explored')\n",
    "\n",
    "# Label axes\n",
    "ax.set_xlabel('X axis')\n",
    "ax.set_ylabel('Y axis')\n",
    "ax.set_zlabel('Z axis')\n",
    "ax.set_title('Gradient Method')\n",
    "\n",
    "# Add a legend\n",
    "ax.legend()\n",
    "\n",
    "# Show plot\n",
    "plt.show()"
   ],
   "id": "b67313486968a0a4",
   "execution_count": 5,
   "outputs": []
  },
  {
   "metadata": {},
   "cell_type": "code",
   "execution_count": null,
   "source": "",
   "id": "5ec19344da79fe59",
   "outputs": []
  }
 ],
 "metadata": {
  "kernelspec": {
   "display_name": "Python 3",
   "language": "python",
   "name": "python3"
  },
  "language_info": {
   "codemirror_mode": {
    "name": "ipython",
    "version": 2
   },
   "file_extension": ".py",
   "mimetype": "text/x-python",
   "name": "python",
   "nbconvert_exporter": "python",
   "pygments_lexer": "ipython2",
   "version": "2.7.6"
  }
 },
 "nbformat": 4,
 "nbformat_minor": 5
}
