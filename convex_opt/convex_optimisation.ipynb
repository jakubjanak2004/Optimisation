{
 "cells": [
  {
   "cell_type": "code",
   "id": "initial_id",
   "metadata": {
    "collapsed": true,
    "ExecuteTime": {
     "end_time": "2024-08-23T10:57:28.440698Z",
     "start_time": "2024-08-23T10:57:28.437897Z"
    }
   },
   "source": [
    "import numpy as np\n",
    "import matplotlib.pyplot as plt\n",
    "import cvxpy as cp\n",
    "import pylab as pl"
   ],
   "execution_count": 234,
   "outputs": []
  },
  {
   "metadata": {
    "ExecuteTime": {
     "end_time": "2024-08-23T10:57:28.721003Z",
     "start_time": "2024-08-23T10:57:28.717143Z"
    }
   },
   "cell_type": "code",
   "source": [
    "x = cp.Variable()\n",
    "y = cp.Variable()\n",
    "\n",
    "objective = cp.Minimize((x - 5) ** 2 + (y - 10) ** 2)\n",
    "\n",
    "# Inequality Constraints: >= (Convex)\n",
    "# Equality Constraints: == (Linear)\n",
    "constraints = [x >= 10, x + y >= 25]\n",
    "\n",
    "problem = cp.Problem(objective, constraints)"
   ],
   "id": "d4f4b5e74790b0cf",
   "execution_count": 235,
   "outputs": []
  },
  {
   "metadata": {
    "ExecuteTime": {
     "end_time": "2024-08-23T10:57:29.862071Z",
     "start_time": "2024-08-23T10:57:29.853364Z"
    }
   },
   "cell_type": "code",
   "source": [
    "result = problem.solve()\n",
    "\n",
    "print('Optimal Value of x', x.value)\n",
    "print('Optimal Value of y', y.value)\n",
    "print('Value of f when variables are optimised', result)"
   ],
   "id": "db12741054a70b33",
   "execution_count": 236,
   "outputs": []
  },
  {
   "metadata": {
    "ExecuteTime": {
     "end_time": "2024-08-23T10:57:31.102082Z",
     "start_time": "2024-08-23T10:57:31.097837Z"
    }
   },
   "cell_type": "code",
   "source": [
    "# Formalize convex optimization using matrices\n",
    "# Especially suitable for bigger Convex problems\n",
    "# Lot of inequality,  equality constraints and a complex objective function\n",
    "z = cp.Variable((2, 1))\n",
    "\n",
    "Q = np.array([\n",
    "    [1, 0],\n",
    "    [0, 1]\n",
    "])\n",
    "\n",
    "# Quadratic Form: min zTQz (x, y)T @ Q @ (x, y)                                                                                        \n",
    "objective = cp.Minimize(cp.QuadForm(z, Q))\n",
    "\n",
    "# A @ z >= b\n",
    "A = np.array([1, 0])\n",
    "b = np.array([3])\n",
    "\n",
    "# C @ z == d\n",
    "C = np.array([1, 1])\n",
    "d = np.array([5])\n",
    "\n",
    "constraints = [A @ z >= b, C @ z == d]\n",
    "\n",
    "problem = cp.Problem(objective, constraints)"
   ],
   "id": "78b8ee89bde234fe",
   "execution_count": 237,
   "outputs": []
  },
  {
   "metadata": {
    "ExecuteTime": {
     "end_time": "2024-08-23T10:57:32.611317Z",
     "start_time": "2024-08-23T10:57:32.604165Z"
    }
   },
   "cell_type": "code",
   "source": [
    "result = problem.solve()\n",
    "\n",
    "print('x:', z.value[0])\n",
    "print('y:', z.value[1])"
   ],
   "id": "d22fc99c8bd60e36",
   "execution_count": 238,
   "outputs": []
  },
  {
   "metadata": {
    "ExecuteTime": {
     "end_time": "2024-08-23T13:33:32.010836Z",
     "start_time": "2024-08-23T13:33:32.004972Z"
    }
   },
   "cell_type": "code",
   "source": [
    "def newt(func, phi, t=1, num_of_iterations=100, tolerance=1e-5, initial_estimate=np.array([30]), alpha=1, beta=.9):\n",
    "    def function(x, t):\n",
    "        return func(x) + 1 / t * phi(x)\n",
    "\n",
    "    def function_der(x_var, h=1e-5):\n",
    "        return np.array([\n",
    "            (function(x_var + h, t) - function(x_var - h, t)) / (2 * h)\n",
    "        ])\n",
    "\n",
    "    def function_der_2(x_var, h=1e-5):\n",
    "        return np.array([\n",
    "            (function(x_var + h, t) - 2 * function(x_var, t) + function(x_var - h, t)) / h ** 2\n",
    "        ])\n",
    "\n",
    "    def get_x_k_plus_1(x_vector):\n",
    "        return x_k - alpha * (function_der(x_vector[0]) / function_der_2(x_vector[0]))\n",
    "\n",
    "    # My newton method Implementation\n",
    "    pts_visited = []\n",
    "    x_k = initial_estimate\n",
    "    for k in range(num_of_iterations):\n",
    "        x_k_plus_1 = get_x_k_plus_1(x_k)\n",
    "        while not np.isfinite(function(x_k_plus_1[0], t)).all():\n",
    "            alpha *= beta\n",
    "            x_k_plus_1 = get_x_k_plus_1(x_k)\n",
    "        pts_visited.append(x_k)\n",
    "        if np.linalg.norm(function_der(x_k_plus_1[0])) < tolerance:\n",
    "            break\n",
    "        x_k = x_k_plus_1\n",
    "    return x_k, pts_visited"
   ],
   "id": "71458cc780014c11",
   "execution_count": 391,
   "outputs": []
  },
  {
   "metadata": {
    "ExecuteTime": {
     "end_time": "2024-08-23T13:33:40.803893Z",
     "start_time": "2024-08-23T13:33:40.800499Z"
    }
   },
   "cell_type": "code",
   "source": [
    "def interior_point(f, phi, mu=2, num_of_iterations=100, tolerance=1e-10, initial_estimate=np.array([30])):\n",
    "    visited_points = []\n",
    "    x_k = initial_estimate\n",
    "    t = 1\n",
    "    for i in range(num_of_iterations):\n",
    "        # My Newton Method Implementation\n",
    "        x_k_plus_1, vis_p = newt(f, phi, t=t, initial_estimate=x_k, tolerance=tolerance, alpha=.001)\n",
    "        if np.linalg.norm(x_k - x_k_plus_1) < tolerance:\n",
    "            return x_k, visited_points\n",
    "        visited_points.append(x_k)\n",
    "        x_k = x_k_plus_1\n",
    "        t *= mu\n",
    "    return x_k, visited_points"
   ],
   "id": "4aa995d302ee6866",
   "execution_count": 395,
   "outputs": []
  },
  {
   "metadata": {
    "ExecuteTime": {
     "end_time": "2024-08-23T13:51:44.374236Z",
     "start_time": "2024-08-23T13:51:44.305316Z"
    }
   },
   "cell_type": "code",
   "source": [
    "def f(x): return (x - 5) ** 2\n",
    "\n",
    "\n",
    "G = np.array([\n",
    "    [-1],\n",
    "])\n",
    "h = np.array([-10])\n",
    "\n",
    "\n",
    "def phi(x):\n",
    "    x_vec = np.array([x])\n",
    "    g_values = G @ x_vec - h\n",
    "    if np.any(g_values >= 0):\n",
    "        return np.inf\n",
    "    return -np.sum(np.log(-g_values))\n",
    "\n",
    "\n",
    "result, visited_points = interior_point(f, phi, tolerance=1e-5, num_of_iterations=10, initial_estimate=np.array([15]))\n",
    "\n",
    "print('result x:', format(result[0], '.5f'), 'num of iterations:', len(visited_points))"
   ],
   "id": "e70b8ea48e1e80d8",
   "execution_count": 437,
   "outputs": []
  },
  {
   "metadata": {
    "ExecuteTime": {
     "end_time": "2024-08-23T13:51:45.966337Z",
     "start_time": "2024-08-23T13:51:45.897659Z"
    }
   },
   "cell_type": "code",
   "source": [
    "visited_points = np.array(visited_points)\n",
    "y_1 = np.linspace(-5, 5, 100)\n",
    "x_1 = [10 for e in y_1]\n",
    "\n",
    "plt.scatter(visited_points, [0 for e in range(len(visited_points))], color='gold')\n",
    "plt.plot(x_1, y_1, color='blue')\n",
    "plt.scatter(10, 0, color='red', s=100)\n",
    "plt.legend(['Path Taken', 'Barrier 1', 'Optimal Solution'])\n",
    "plt.title('The Path taken by the Interior Point Method')\n",
    "plt.show()"
   ],
   "id": "7e29254451ede34d",
   "execution_count": 438,
   "outputs": []
  },
  {
   "metadata": {
    "ExecuteTime": {
     "end_time": "2024-08-23T13:51:46.950640Z",
     "start_time": "2024-08-23T13:51:46.873907Z"
    }
   },
   "cell_type": "code",
   "source": [
    "x = np.linspace(0, 15, 100)\n",
    "y = f(x)\n",
    "\n",
    "y_1 = np.linspace(0, 100, 100)\n",
    "x_1 = [10 for e in y_1]\n",
    "\n",
    "plt.plot(x, y)\n",
    "plt.plot(x_1, y_1, color='blue')\n",
    "plt.scatter(visited_points, f(visited_points), color='gold')\n",
    "plt.scatter(10, f(10), color='red', s=70)\n",
    "plt.legend(['f(x)', 'Constraint', 'Iterations', 'Optimal Solution'])\n",
    "plt.show()"
   ],
   "id": "917e3b6955510259",
   "execution_count": 439,
   "outputs": []
  },
  {
   "metadata": {
    "ExecuteTime": {
     "end_time": "2024-08-23T14:06:42.527767Z",
     "start_time": "2024-08-23T14:06:42.412937Z"
    }
   },
   "cell_type": "code",
   "source": [
    "# Now lets have a look at the barrier function\n",
    "def barrier_function(x, t):\n",
    "    return f(x) + 1/t * phi(x)\n",
    "\n",
    "\n",
    "x = np.linspace(10, 11.5, 1000)\n",
    "    \n",
    "for i in np.linspace(.1, 1, 5):\n",
    "    y = []\n",
    "    for num in x:\n",
    "        y.append(barrier_function(num, i))\n",
    "    plt.plot(x, y)\n",
    "    r, _ = newt(f, phi, t=i)\n",
    "    plt.scatter(r, barrier_function(r, i))\n",
    "    \n",
    "plt.title('Convergence of result as the t increases')\n",
    "plt.xlabel('x')\n",
    "plt.ylabel('y')\n",
    "plt.show()"
   ],
   "id": "dea9b8d7c61c3da3",
   "execution_count": 467,
   "outputs": []
  },
  {
   "metadata": {},
   "cell_type": "code",
   "execution_count": null,
   "source": "",
   "id": "cf413fd7e9527ea5",
   "outputs": []
  }
 ],
 "metadata": {
  "kernelspec": {
   "display_name": "Python 3",
   "language": "python",
   "name": "python3"
  },
  "language_info": {
   "codemirror_mode": {
    "name": "ipython",
    "version": 2
   },
   "file_extension": ".py",
   "mimetype": "text/x-python",
   "name": "python",
   "nbconvert_exporter": "python",
   "pygments_lexer": "ipython2",
   "version": "2.7.6"
  }
 },
 "nbformat": 4,
 "nbformat_minor": 5
}
